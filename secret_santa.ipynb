{
 "cells": [
  {
   "cell_type": "code",
   "execution_count": 2,
   "metadata": {},
   "outputs": [
    {
     "data": {
      "text/plain": [
       "[('Helen', 'Sophia'),\n",
       " ('Kristin', 'Stephanie'),\n",
       " ('Kristina', 'Maria'),\n",
       " ('Maria', 'Kristina'),\n",
       " ('Sophia', 'Helen'),\n",
       " ('Stephanie', 'Kristin')]"
      ]
     },
     "execution_count": 2,
     "metadata": {},
     "output_type": "execute_result"
    }
   ],
   "source": [
    "import copy\n",
    "import random\n",
    "\n",
    "ppl = ['Helen','Kristin','Kristina','Maria', 'Sophia', 'Stephanie']\n",
    "\n",
    "def secret_santa(ppl):\n",
    "    ss_list = ppl\n",
    "    choose = copy.copy(ss_list)\n",
    "    result = []\n",
    "    for i in ss_list:\n",
    "        ppl = copy.copy(ss_list)\n",
    "        ppl.pop(ppl.index(i))\n",
    "        chosen = random.choice(list(set(choose)&set(ppl)))\n",
    "        result.append((i,chosen))\n",
    "        choose.pop(choose.index(chosen))\n",
    "    return result\n",
    "\n",
    "\n",
    "ss_result = secret_santa(ppl)\n",
    "ss_result"
   ]
  },
  {
   "cell_type": "code",
   "execution_count": 35,
   "metadata": {},
   "outputs": [
    {
     "data": {
      "text/html": [
       "<div>\n",
       "<style scoped>\n",
       "    .dataframe tbody tr th:only-of-type {\n",
       "        vertical-align: middle;\n",
       "    }\n",
       "\n",
       "    .dataframe tbody tr th {\n",
       "        vertical-align: top;\n",
       "    }\n",
       "\n",
       "    .dataframe thead th {\n",
       "        text-align: right;\n",
       "    }\n",
       "</style>\n",
       "<table border=\"1\" class=\"dataframe\">\n",
       "  <thead>\n",
       "    <tr style=\"text-align: right;\">\n",
       "      <th></th>\n",
       "      <th>santa</th>\n",
       "      <th>recipient</th>\n",
       "    </tr>\n",
       "  </thead>\n",
       "  <tbody>\n",
       "    <tr>\n",
       "      <th>0</th>\n",
       "      <td>Helen</td>\n",
       "      <td>Stephanie</td>\n",
       "    </tr>\n",
       "    <tr>\n",
       "      <th>1</th>\n",
       "      <td>Kristin</td>\n",
       "      <td>Kristina</td>\n",
       "    </tr>\n",
       "    <tr>\n",
       "      <th>2</th>\n",
       "      <td>Kristina</td>\n",
       "      <td>Kristin</td>\n",
       "    </tr>\n",
       "    <tr>\n",
       "      <th>3</th>\n",
       "      <td>Maria</td>\n",
       "      <td>Sophia</td>\n",
       "    </tr>\n",
       "    <tr>\n",
       "      <th>4</th>\n",
       "      <td>Sophia</td>\n",
       "      <td>Helen</td>\n",
       "    </tr>\n",
       "    <tr>\n",
       "      <th>5</th>\n",
       "      <td>Stephanie</td>\n",
       "      <td>Maria</td>\n",
       "    </tr>\n",
       "  </tbody>\n",
       "</table>\n",
       "</div>"
      ],
      "text/plain": [
       "       santa  recipient\n",
       "0      Helen  Stephanie\n",
       "1    Kristin   Kristina\n",
       "2   Kristina    Kristin\n",
       "3      Maria     Sophia\n",
       "4     Sophia      Helen\n",
       "5  Stephanie      Maria"
      ]
     },
     "execution_count": 35,
     "metadata": {},
     "output_type": "execute_result"
    }
   ],
   "source": [
    "#saving the receipts \n",
    "import pandas as pd\n",
    "\n",
    "ss_2020 = pd.DataFrame(ss_result)\n",
    "ss_2020.columns = ['santa', 'recipient']\n",
    "ss_2020\n",
    "\n",
    "ss_2020.to_csv('ss_2020.csv', index=True, header=True)"
   ]
  }
 ],
 "metadata": {
  "kernelspec": {
   "display_name": "Python 3",
   "language": "python",
   "name": "python3"
  },
  "language_info": {
   "codemirror_mode": {
    "name": "ipython",
    "version": 3
   },
   "file_extension": ".py",
   "mimetype": "text/x-python",
   "name": "python",
   "nbconvert_exporter": "python",
   "pygments_lexer": "ipython3",
   "version": "3.7.3"
  }
 },
 "nbformat": 4,
 "nbformat_minor": 2
}
